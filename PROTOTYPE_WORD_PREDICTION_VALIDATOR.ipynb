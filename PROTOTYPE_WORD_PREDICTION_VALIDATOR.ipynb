{
  "cells": [
    {
      "cell_type": "code",
      "execution_count": 1,
      "metadata": {
        "colab": {
          "base_uri": "https://localhost:8080/"
        },
        "id": "wctF0V5_govB",
        "outputId": "e48024b9-fddd-4c11-d047-9ca28de91873"
      },
      "outputs": [
        {
          "output_type": "stream",
          "name": "stdout",
          "text": [
            "\r0% [Working]\r            \rHit:1 https://developer.download.nvidia.com/compute/cuda/repos/ubuntu1804/x86_64  InRelease\n",
            "\r0% [Connecting to archive.ubuntu.com] [Connecting to security.ubuntu.com] [Wait\r0% [1 InRelease gpgv 1,581 B] [Connecting to archive.ubuntu.com] [Connecting to\r                                                                               \rHit:2 https://cloud.r-project.org/bin/linux/ubuntu bionic-cran40/ InRelease\n",
            "Ign:3 https://developer.download.nvidia.com/compute/machine-learning/repos/ubuntu1804/x86_64  InRelease\n",
            "Hit:4 https://developer.download.nvidia.com/compute/machine-learning/repos/ubuntu1804/x86_64  Release\n",
            "Hit:5 http://ppa.launchpad.net/c2d4u.team/c2d4u4.0+/ubuntu bionic InRelease\n",
            "Hit:6 http://security.ubuntu.com/ubuntu bionic-security InRelease\n",
            "Hit:7 http://archive.ubuntu.com/ubuntu bionic InRelease\n",
            "Hit:8 http://ppa.launchpad.net/cran/libgit2/ubuntu bionic InRelease\n",
            "Hit:9 http://archive.ubuntu.com/ubuntu bionic-updates InRelease\n",
            "Hit:10 http://archive.ubuntu.com/ubuntu bionic-backports InRelease\n",
            "Hit:11 http://ppa.launchpad.net/deadsnakes/ppa/ubuntu bionic InRelease\n",
            "Hit:13 http://ppa.launchpad.net/graphics-drivers/ppa/ubuntu bionic InRelease\n",
            "Reading package lists... Done\n"
          ]
        }
      ],
      "source": [
        "import os\n",
        "# Find the latest version of spark 3.0 from http://www.apache.org/dist/spark/ and enter as the spark version\n",
        "# For example:\n",
        "# spark_version = 'spark-3.0.3'\n",
        "spark_version = 'spark-3.0.3'\n",
        "os.environ['SPARK_VERSION']=spark_version\n",
        "\n",
        "# Install Spark and Java\n",
        "!apt-get update\n",
        "!apt-get install openjdk-11-jdk-headless -qq > /dev/null\n",
        "!wget -q http://www.apache.org/dist/spark/$SPARK_VERSION/$SPARK_VERSION-bin-hadoop2.7.tgz\n",
        "!tar xf $SPARK_VERSION-bin-hadoop2.7.tgz\n",
        "!pip install -q findspark\n",
        "\n",
        "# Set Environment Variables\n",
        "import os\n",
        "os.environ[\"JAVA_HOME\"] = \"/usr/lib/jvm/java-11-openjdk-amd64\"\n",
        "os.environ[\"SPARK_HOME\"] = f\"/content/{spark_version}-bin-hadoop2.7\"\n",
        "\n",
        "# Start a SparkSession\n",
        "import findspark\n",
        "findspark.init()"
      ]
    },
    {
      "cell_type": "code",
      "execution_count": 2,
      "metadata": {
        "id": "TK_JKlYFgw6p",
        "colab": {
          "base_uri": "https://localhost:8080/"
        },
        "outputId": "4b21f300-492b-436d-af6c-09a80f7fa1c9"
      },
      "outputs": [
        {
          "output_type": "stream",
          "name": "stdout",
          "text": [
            "--2022-06-25 20:27:52--  https://jdbc.postgresql.org/download/postgresql-42.2.16.jar\n",
            "Resolving jdbc.postgresql.org (jdbc.postgresql.org)... 72.32.157.228, 2001:4800:3e1:1::228\n",
            "Connecting to jdbc.postgresql.org (jdbc.postgresql.org)|72.32.157.228|:443... connected.\n",
            "HTTP request sent, awaiting response... 200 OK\n",
            "Length: 1002883 (979K) [application/java-archive]\n",
            "Saving to: ‘postgresql-42.2.16.jar.1’\n",
            "\n",
            "postgresql-42.2.16. 100%[===================>] 979.38K  --.-KB/s    in 0.09s   \n",
            "\n",
            "2022-06-25 20:27:53 (11.2 MB/s) - ‘postgresql-42.2.16.jar.1’ saved [1002883/1002883]\n",
            "\n"
          ]
        }
      ],
      "source": [
        "# Download the Postgres driver that will allow Spark to interact with Postgres.\n",
        "!wget https://jdbc.postgresql.org/download/postgresql-42.2.16.jar"
      ]
    },
    {
      "cell_type": "code",
      "execution_count": 3,
      "metadata": {
        "id": "sAg_cHypg1Ah"
      },
      "outputs": [],
      "source": [
        "from pyspark.sql import SparkSession\n",
        "spark = SparkSession.builder.appName(\"prediction\").config(\"spark.driver.extraClassPath\",\"/content/postgresql-42.2.16.jar\").getOrCreate()"
      ]
    },
    {
      "cell_type": "code",
      "execution_count": 4,
      "metadata": {
        "id": "oBJIGkal2S7z"
      },
      "outputs": [],
      "source": [
        "# Import relevant libraries\n",
        "\n",
        "from google.colab.patches import cv2_imshow\n",
        "from google.colab.patches import cv2\n",
        "import numpy as np\n",
        "import pandas as pd\n",
        "import matplotlib.pyplot as plt\n",
        "import datetime as dt\n",
        "from tensorflow.keras.models import load_model\n",
        "import base64\n",
        "from imageio import imread\n",
        "import io\n",
        "from PIL import Image"
      ]
    },
    {
      "cell_type": "code",
      "execution_count": 5,
      "metadata": {
        "id": "c4859LneZ7g6",
        "colab": {
          "base_uri": "https://localhost:8080/"
        },
        "outputId": "56441d97-1d15-4bbc-fef4-a7ebff5dc2ae"
      },
      "outputs": [
        {
          "output_type": "stream",
          "name": "stdout",
          "text": [
            "Drive already mounted at /content/drive; to attempt to forcibly remount, call drive.mount(\"/content/drive\", force_remount=True).\n"
          ]
        }
      ],
      "source": [
        "# Mount google drive\n",
        "\n",
        "from google.colab import drive\n",
        "drive.mount('/content/drive')"
      ]
    },
    {
      "cell_type": "code",
      "source": [
        "mod_data_file_Path = \"/content/drive/MyDrive/Generated_Models/\"\n",
        "mod_data_input_file = \"character_recog_model_revision_14.h5\"\n",
        "mod_to_process = mod_data_file_Path + mod_data_input_file\n",
        "print(mod_to_process)"
      ],
      "metadata": {
        "colab": {
          "base_uri": "https://localhost:8080/"
        },
        "id": "1tCAM2O5xbdS",
        "outputId": "b765e164-4cc3-4737-9101-157f7b3e495a"
      },
      "execution_count": 6,
      "outputs": [
        {
          "output_type": "stream",
          "name": "stdout",
          "text": [
            "/content/drive/MyDrive/Generated_Models/character_recog_model_revision_14.h5\n"
          ]
        }
      ]
    },
    {
      "cell_type": "code",
      "execution_count": 7,
      "metadata": {
        "id": "KFF76VlP26fh"
      },
      "outputs": [],
      "source": [
        "# Load trained model\n",
        "trained_model = load_model(mod_to_process)"
      ]
    },
    {
      "cell_type": "code",
      "execution_count": 8,
      "metadata": {
        "id": "1YWPqD4C3FLI"
      },
      "outputs": [],
      "source": [
        "# Compile trained model\n",
        "trained_model.compile(optimizer=\"adam\", loss=\"binary_crossentropy\", metrics = [\"accuracy\"])"
      ]
    },
    {
      "cell_type": "code",
      "execution_count": 9,
      "metadata": {
        "id": "9GaFKZq63K2S"
      },
      "outputs": [],
      "source": [
        "# Create a refence array used for determine model prediction letter\n",
        "\n",
        "words = {0:'A',1:'B',2:'C',3:'D',4:'E',5:'F',6:'G',7:'H',8:'I',9:'J',10:'K',11:'L',12:'M',13:'N',14:'O',15:'P',16:'Q',17:'R',18:'S',19:'T',20:'U',21:'V',22:'W',23:'X', 24:'Y',25:'Z'}"
      ]
    },
    {
      "cell_type": "code",
      "source": [
        "# Function to predict letter characters using the trained model\n",
        "xx = []\n",
        "def predict_letter_from_word(in_read_image):\n",
        "    # Read the image using cv2\n",
        "    image = in_read_image\n",
        "\n",
        "    # make copy of original image, copy will be used to change colors\n",
        "    image_copy = image.copy()\n",
        "\n",
        "    # convert image to RGB using cvtColor\n",
        "    image = cv2.cvtColor(image, cv2.COLOR_BGR2RGB)\n",
        "\n",
        "    # Resize image to 400 x 400 size\n",
        "    image = cv2.resize(image, (400,400))\n",
        "\n",
        "    # Add blur to image and greyscale (need to greyscale as cv.threshold needs greyscale images)\n",
        "    image_copy = cv2.GaussianBlur(image_copy, (7,7), 0)\n",
        "    grey_image = cv2.cvtColor(image_copy, cv2.COLOR_BGR2GRAY)\n",
        "\n",
        "\n",
        "    # Separate object from background pixels using thresholding\n",
        "    # https://docs.opencv.org/4.x/d7/d4d/tutorial_py_thresholding.html\n",
        "    _, img_thresh = cv2.threshold(grey_image, 100, 255, cv2.THRESH_BINARY_INV)\n",
        "\n",
        "    # Resize and reshape image to fit trained_model requirements\n",
        "    final_image = cv2.resize(img_thresh, (28,28))\n",
        "    # xx.append(final_image)\n",
        "    # print(final_image)\n",
        "    final_image = np.reshape(final_image, (1, 28, 28, 1))\n",
        "\n",
        "    # Make prediction using the trained_model\n",
        "    prediction = words[np.argmax(trained_model.predict(final_image))]\n",
        "\n",
        "    return(prediction)"
      ],
      "metadata": {
        "id": "dV56TlkcGBfC"
      },
      "execution_count": 10,
      "outputs": []
    },
    {
      "cell_type": "code",
      "source": [
        "def convert_image_to_base64(in_image_file_name):\n",
        "# Function that takes in image file name reads in mage and convert to a base 64 string\n",
        "  file_name = (in_image_file_name)\n",
        "  with open(file_name, \"rb\") as img_file:\n",
        "      b64_string = base64.b64encode(img_file.read())\n",
        "\n",
        "  return(b64_string.decode('utf-8'))"
      ],
      "metadata": {
        "id": "XNllQ8IQk8tI"
      },
      "execution_count": 11,
      "outputs": []
    },
    {
      "cell_type": "code",
      "source": [
        "def convert_from_base_64_to_image(in_base_64_image_string):\n",
        "# Function that takes in base 64 string and converts to image\n",
        "  image_webP = Image.open((io.BytesIO(base64.b64decode(in_base_64_image_string))))\n",
        "\n",
        "  image_RGB = image_webP.convert(\"RGB\")\n",
        "  \n",
        "  image = np.float32(image_RGB)\n",
        "\n",
        "  return(image)"
      ],
      "metadata": {
        "id": "rNDKnyvnyKKI"
      },
      "execution_count": 12,
      "outputs": []
    },
    {
      "cell_type": "code",
      "source": [
        "def split_image(in_image_to_split, in_no_of_splits , in_section_to_get):\n",
        "# Function that takes in image and value of what section to extract , calculates start x and exnd x position\n",
        "\n",
        "  height , width , channels = image_returned.shape\n",
        "\n",
        "  horizontal_to_extract = width/in_no_of_splits\n",
        "  \n",
        "  x_start = int(in_section_to_get * horizontal_to_extract)\n",
        "  x_end = int(in_section_to_get * horizontal_to_extract + horizontal_to_extract )\n",
        "\n",
        "  section_part =  in_image_to_split[:, x_start:x_end] \n",
        "\n",
        "  return(section_part)"
      ],
      "metadata": {
        "id": "YRoIuslonqCN"
      },
      "execution_count": 13,
      "outputs": []
    },
    {
      "cell_type": "code",
      "source": [
        "\n",
        "\n",
        "directory_path = '/content/drive/MyDrive/Word_Images/'\n",
        "directory_listing = os.listdir(directory_path)\n",
        "for image_name in directory_listing:\n",
        "    image_file_name = (\"/content/drive/MyDrive/Word_Images/\" + image_name)\n",
        "    # COnvert image to base 64 string\n",
        "    base_64_image_string = convert_image_to_base64(image_file_name)\n",
        "\n",
        "    # Return an image from the base64 string \n",
        "    image_returned = convert_from_base_64_to_image(base_64_image_string)\n",
        "\n",
        "    # Split image into 3 parts and call prediction function\n",
        "\n",
        "    no_of_splits = 3\n",
        "    word_string = ''\n",
        "    # cv2_imshow(image_returned)\n",
        "    for split_count in range(no_of_splits):\n",
        "        image_section = split_image(image_returned , no_of_splits , split_count)\n",
        "        \n",
        "        word_string = word_string + predict_letter_from_word(image_section)\n",
        "\n",
        "    # Output word built from prediction\n",
        "    print(image_name , word_string)"
      ],
      "metadata": {
        "colab": {
          "base_uri": "https://localhost:8080/"
        },
        "id": "lOy-S48EX0mp",
        "outputId": "98c0396f-9a6c-42ed-cd58-427ebfd118b4"
      },
      "execution_count": 14,
      "outputs": [
        {
          "output_type": "stream",
          "name": "stdout",
          "text": [
            "dog_1.png DOG\n"
          ]
        }
      ]
    },
    {
      "cell_type": "code",
      "source": [
        "# Call mirriam-webster API\n",
        "\n",
        "url = \"https://www.dictionaryapi.com/api/v3/references/collegiate/json/\" + word_string + \"?key=5a0c68d0-b2d4-4394-8d86-a4d8a68507f2\"\n",
        "# Import the requests library.\n",
        "import requests\n",
        "dictionary_response = requests.get(url).json()\n",
        "dictionary_response\n",
        "\n",
        "\n",
        "print(dictionary_response)"
      ],
      "metadata": {
        "id": "riaiUcODpY6s",
        "colab": {
          "base_uri": "https://localhost:8080/"
        },
        "outputId": "afacc499-681d-40aa-a765-3d1ccce2c2f9"
      },
      "execution_count": 15,
      "outputs": [
        {
          "output_type": "stream",
          "name": "stdout",
          "text": [
            "[{'meta': {'id': 'dog:1', 'uuid': '587c451b-063e-433e-8a25-8371f335eac3', 'sort': '043189000', 'src': 'collegiate', 'section': 'alpha', 'stems': ['dog', 'doglike', 'dogs'], 'offensive': False}, 'hom': 1, 'hwi': {'hw': 'dog', 'prs': [{'mw': 'ˈdȯg', 'sound': {'audio': 'dog00002', 'ref': 'c', 'stat': '1'}}, {'mw': 'ˈdäg', 'sound': {'audio': 'dog00001', 'ref': 'c', 'stat': '1'}}]}, 'fl': 'noun', 'lbs': ['often attributive'], 'def': [{'sseq': [[['sense', {'sn': '1 a', 'dt': [['text', '{bc}{sx|canid||} '], ['vis', [{'t': 'wolves, foxes, and other {wi}dogs{/wi}'}]]], 'sdsense': {'sd': 'especially', 'dt': [['text', '{bc}a highly variable domestic mammal ({it}Canis familiaris{/it}) closely related to the {d_link|gray wolf|gray wolf} '], ['vis', [{'t': \"the family's pet {wi}dog{/wi}\"}]]]}}], ['sense', {'sn': 'b', 'dt': [['text', '{bc}a male dog '], ['vis', [{'t': '{wi}dogs{/wi} and bitches'}]]], 'sdsense': {'sd': 'also', 'dt': [['text', '{bc}a male usually {d_link|carnivorous|carnivorous} mammal']]}}]], [['sense', {'sn': '2 a', 'dt': [['text', '{bc}a worthless or contemptible person']]}], ['sense', {'sn': 'b', 'dt': [['text', '{bc}{sx|fellow||}, {sx|chap||} '], ['vis', [{'t': 'a lazy {wi}dog{/wi}'}, {'t': 'you lucky {wi}dog{/wi}'}]]]}]], [['sense', {'sn': '3 a', 'dt': [['text', '{bc}any of various usually simple mechanical devices for holding, gripping, or fastening that consist of a spike, bar, or hook']]}], ['sense', {'sn': 'b', 'dt': [['text', '{bc}{sx|andiron||}']]}]], [['sense', {'sn': '4', 'dt': [['text', '{bc}uncharacteristic or {d_link|affected|affected:2} stylishness or dignity '], ['vis', [{'t': 'put on the {wi}dog{/wi}'}]]]}]], [['sense', {'sn': '5', 'lbs': ['capitalized'], 'sls': ['astronomy'], 'dt': [['text', '{bc}either of the constellations {d_link|Canis Major|Canis Major} or {d_link|Canis Minor|Canis Minor}']]}]], [['sense', {'sn': '6', 'ins': [{'if': 'dogs', 'spl': 'plural'}], 'sls': ['anatomy'], 'dt': [['text', '{bc}{sx|feet||} '], ['vis', [{'t': 'rest his tired {wi}dogs{/wi}'}]]]}]], [['sense', {'sn': '7', 'ins': [{'if': 'dogs', 'spl': 'plural'}], 'dt': [['text', '{bc}{sx|ruin||} '], ['vis', [{'t': 'going to the {wi}dogs{/wi}'}]]]}]], [['bs', {'sense': {'sn': '8', 'dt': [['text', '{bc}one inferior of its kind '], ['vis', [{'t': 'the movie was a {wi}dog{/wi}'}]], ['text', ': such as']]}}], ['sense', {'sn': 'a', 'dt': [['text', '{bc}an investment not worth its price']]}], ['sense', {'sn': 'b', 'dt': [['text', '{bc}an undesirable piece of merchandise']]}]], [['sense', {'sn': '9', 'dt': [['text', '{bc}an unattractive person']], 'sdsense': {'sd': 'especially', 'dt': [['text', '{bc}an unattractive girl or woman']]}}]], [['sense', {'sn': '10', 'dt': [['text', '{bc}{sx|hot dog||1} '], ['vis', [{'t': 'bought two {wi}dogs{/wi} and a beer'}]]]}]]]}], 'uros': [{'ure': 'dog*like', 'prs': [{'mw': 'ˈdȯg-ˌlīk', 'sound': {'audio': 'dog00003', 'ref': 'c', 'stat': '1'}}], 'fl': 'adjective'}], 'art': {'artid': 'dog', 'capt': 'dog 1a: {it}1{/it} pastern, {it}2{/it} chest, {it}3{/it} flews, {it}4{/it} muzzle, {it}5{/it} stop, {it}6{/it} occiput, {it}7{/it} leather, {it}8{/it} crest, {it}9{/it} withers, {it}10{/it} loin, {it}11{/it} point of rump, {it}12{/it} hock {it}or{/it} tarsus, {it}13{/it} knee {it}or{/it} stifle, {it}14{/it} brisket, {it}15{/it} elbow, {it}16{/it} feathering'}, 'et': [['text', 'Middle English, from Old English {it}docga{/it}']], 'date': 'before 12th century{ds||1|a|}', 'shortdef': ['canid; especially : a highly variable domestic mammal (Canis familiaris) closely related to the gray wolf', 'a male dog; also : a male usually carnivorous mammal', 'a worthless or contemptible person']}, {'meta': {'id': 'dog:2', 'uuid': '0d0b31bb-be7a-46c6-ba71-4085e82c258a', 'sort': '043190000', 'src': 'collegiate', 'section': 'alpha', 'stems': ['dog'], 'offensive': False}, 'hom': 2, 'hwi': {'hw': 'dog'}, 'fl': 'adjective', 'def': [{'sseq': [[['sense', {'sn': '1', 'dt': [['text', '{bc}{sx|canine||} '], ['vis', [{'t': '{wi}dog{/wi} breeders'}, {'t': 'a {wi}dog{/wi} collar'}]]]}]], [['sense', {'sn': '2', 'dt': [['text', '{bc}having an inferior or inauthentic quality {bc}{sx|spurious||} '], ['vis', [{'t': '{wi}dog{/wi} rhyme'}]]], 'sdsense': {'sd': 'especially', 'sls': ['languages'], 'dt': [['text', '{bc}unlike that used by native speakers or writers '], ['vis', [{'t': '{wi}dog{/wi} Latin'}, {'t': '{wi}dog{/wi} French'}]]]}}]]]}], 'et': [['text', 'from attributive use of {et_link|dog:1|dog:1}']], 'date': '14th century{ds||1||}', 'shortdef': ['canine', 'having an inferior or inauthentic quality : spurious; especially, languages : unlike that used by native speakers or writers']}, {'meta': {'id': 'dog:3', 'uuid': 'cfd2d486-4e7c-475f-a238-663def033611', 'sort': '043191000', 'src': 'collegiate', 'section': 'alpha', 'stems': ['dog', 'dog it', 'dogged', 'dogged it', 'dogging', 'dogging it', 'dogs', 'dogs it'], 'offensive': False}, 'hom': 3, 'hwi': {'hw': 'dog'}, 'fl': 'verb', 'ins': [{'if': 'dogged', 'prs': [{'mw': 'ˈdȯgd', 'sound': {'audio': 'dog00004', 'ref': 'c', 'stat': '1'}}, {'mw': 'ˈdägd'}]}, {'if': 'dog*ging'}, {'if': 'dogs'}], 'def': [{'vd': 'transitive verb', 'sseq': [[['sense', {'sn': '1 a', 'dt': [['text', '{bc}to hunt, track, or follow (someone) like a hound '], ['vis', [{'t': '{it}dogged{/it} her every move'}]]]}], ['sense', {'sn': 'b', 'dt': [['text', '{bc}to be a persistent source of difficulty or distress to (someone) {bc}{sx|plague||} '], ['vis', [{'t': 'Rumors {wi}dogged{/wi} him throughout his public life.', 'aq': {'auth': 'Howard Chua-Eoan'}}]], ['uns', [[['text', 'often used in the passive with {it}by{/it} '], ['vis', [{'t': 'Their star pitcher has been {wi}dogged{/wi} by injuries.'}, {'t': 'The project has been {wi}dogged{/wi} by controversy.'}]]]]]]}], ['sense', {'sn': 'c', 'dt': [['text', '{bc}to bother or pester (someone) persistently {bc}{sx|hound||} '], ['vis', [{'t': 'Reporters {wi}dogged{/wi} her for information.'}]]]}]], [['sense', {'sn': '2', 'dt': [['text', '{bc}to fasten (something) with a dog {dx_def}see {dxt|dog:1||3a}{/dx_def} '], ['vis', [{'t': '{it}dogged{/it} down the hatch'}]]]}]]]}], 'dros': [{'drp': 'dog it', 'def': [{'sseq': [[['sense', {'dt': [['text', \"{bc}to fail to do one's best {bc}{sx|goldbrick||}\"]]}]]]}]}], 'et': [['text', 'derivative of {et_link|dog:1|dog:1}']], 'date': '1519{ds||1|a|}', 'shortdef': ['to hunt, track, or follow (someone) like a hound', 'to be a persistent source of difficulty or distress to (someone) : plague —often used in the passive with by', 'to bother or pester (someone) persistently : hound']}, {'meta': {'id': 'dog:4', 'uuid': '2d30968b-a529-4b3c-9809-1214a276a50c', 'sort': '043192000', 'src': 'collegiate', 'section': 'alpha', 'stems': ['dog'], 'offensive': False}, 'hom': 4, 'hwi': {'hw': 'dog'}, 'fl': 'adverb', 'def': [{'sls': ['informal'], 'sseq': [[['sense', {'dt': [['text', '{bc}{sx|extremely||}, {sx|utterly||} '], ['vis', [{'t': '{it}dog{/it} cheap'}]], ['uns', [[['text', 'sometimes used in combination '], ['vis', [{'t': 'In plain West Virginia-speak, the situation is {wi}dog{/wi}-ugly.', 'aq': {'auth': 'Mitch Vingle'}}]]]]], ['text', ' {dx}see also {dxt|dog-tired||}{/dx}']]}]]]}], 'et': [['text', 'derivative of {et_link|dog:1|dog:1}']], 'date': '1526', 'shortdef': ['extremely, utterly —sometimes used in combination']}, {'meta': {'id': 'dog and pony show', 'uuid': 'd134ff59-5788-48a0-bcf5-1d8e84ac550c', 'sort': '043193000', 'src': 'collegiate', 'section': 'alpha', 'stems': ['dog and pony show', 'dog and pony shows'], 'offensive': False}, 'hwi': {'hw': 'dog and pony show'}, 'fl': 'noun', 'def': [{'sseq': [[['sense', {'dt': [['text', '{bc}an often elaborate public relations or sales presentation']], 'sdsense': {'sd': 'also', 'dt': [['text', '{bc}an elaborate or overblown affair or event']]}}]]]}], 'date': '1949', 'shortdef': ['an often elaborate public relations or sales presentation; also : an elaborate or overblown affair or event']}, {'meta': {'id': 'dog biscuit', 'uuid': '30a513d6-2d18-436a-8ad9-2069afa22739', 'sort': '043195000', 'src': 'collegiate', 'section': 'alpha', 'stems': ['dog biscuit', 'dog biscuits'], 'offensive': False}, 'hwi': {'hw': 'dog biscuit'}, 'fl': 'noun', 'def': [{'sseq': [[['sense', {'dt': [['text', '{bc}a hard dry cracker for dogs']]}]]]}], 'date': '1823', 'shortdef': ['a hard dry cracker for dogs']}, {'meta': {'id': 'dog bone', 'uuid': '6d76fcbf-bf89-47b5-8b0b-56fd034babad', 'sort': '043195500', 'src': 'collegiate', 'section': 'alpha', 'stems': ['dog bone', 'dog bones'], 'offensive': False}, 'hwi': {'hw': 'dog bone'}, 'fl': 'noun', 'ins': [{'il': 'plural', 'if': 'dog bones'}], 'def': [{'sseq': [[['sense', {'sn': '1', 'dt': [['text', '{bc}a {d_link|bone|bone:1} (such as a beef or pork bone) that is prepared or intended to be chewed by a dog '], ['vis', [{'t': \"I don't tell him that about twice a week, I give her a hickory-smoked beef {wi}dog bone{/wi} to chew. I know if I told him, he would lecture me on the evils of giving bones to dogs.\", 'aq': {'auth': 'John Ross'}}, {'t': 'With the holidays approaching, the U.S. Food and Drug Administration is warning people who plan on spoiling their four-legged friends to think twice before buying {wi}dog bone{/wi} treats such as ham bones and pork femur bones.', 'aq': {'auth': 'Carli Teproff'}}]]]}]], [['bs', {'sense': {'sn': '2', 'dt': [['text', '{bc}something that resembles a dog bone: such as']]}}], ['sense', {'sn': 'a', 'dt': [['text', '{bc}a {d_link|stylized|stylize} representation of a dog bone '], ['vis', [{'t': 'For the walls, [Art] McShane and business partner John Filipowicz did a classic herringbone pattern incorporating {wi}dog bones{/wi}.', 'aq': {'auth': 'Valerie Kellogg'}}]]]}], ['sense', {'sn': 'b', 'dt': [['text', '{bc}a chew, toy, or treat for dogs that is shaped to resemble a dog bone '], ['vis', [{'t': 'a rawhide/rubber {wi}dog bone{/wi}'}, {'t': 'The site also carries pet supplements, books about homeopathic healing and ways to give your pet a vegetarian lifestyle, and pet goodies like spinach {wi}dog bones{/wi} …', 'aq': {'source': '{it}Business Wire{/it}'}}]]]}]]]}], 'date': '1917{ds||2|b|}', 'shortdef': ['a bone (such as a beef or pork bone) that is prepared or intended to be chewed by a dog', 'something that resembles a dog bone: such as', 'a stylized representation of a dog bone']}, {'meta': {'id': 'dog collar', 'uuid': 'ae28f9da-cc23-4800-8fe9-5ac9b7b912bd', 'sort': '043198000', 'src': 'collegiate', 'section': 'alpha', 'stems': ['dog collar', 'dog collars'], 'offensive': False}, 'hwi': {'hw': 'dog collar'}, 'fl': 'noun', 'def': [{'sseq': [[['sense', {'sn': '1', 'dt': [['text', '{bc}a collar for a dog']]}]], [['sense', {'sn': '2', 'sls': ['slang'], 'dt': [['text', '{bc}{sx|clerical collar||}']]}]], [['sense', {'sn': '3', 'dt': [['text', '{bc}a wide flexible snug-fitting necklace']]}]]]}], 'date': '15th century{ds||1||}', 'shortdef': ['a collar for a dog', 'clerical collar', 'a wide flexible snug-fitting necklace']}, {'meta': {'id': 'dog days', 'uuid': 'bfb18703-6b0c-403f-891b-1a8621b020e0', 'sort': '043199000', 'src': 'collegiate', 'section': 'alpha', 'stems': ['dog days'], 'offensive': False}, 'hwi': {'hw': 'dog days'}, 'fl': 'plural noun', 'def': [{'sseq': [[['sense', {'sn': '1', 'dt': [['text', '{bc}the period between early July and early September when the hot sultry weather of summer usually occurs in the northern hemisphere']]}]], [['sense', {'sn': '2', 'dt': [['text', '{bc}a period of stagnation or inactivity']]}]]]}], 'et': [['text', 'from their being reckoned from the heliacal rising of the Dog Star (Sirius)']], 'date': '1538{ds||1||}', 'shortdef': ['the period between early July and early September when the hot sultry weather of summer usually occurs in the northern hemisphere', 'a period of stagnation or inactivity']}, {'meta': {'id': 'dog-ear', 'uuid': '42753e5c-72ec-441d-bcbd-cbd28f537a9c', 'sort': '043202000', 'src': 'collegiate', 'section': 'alpha', 'stems': ['dog-ear', 'dog-eared', 'dog-earing', 'dog-ears'], 'offensive': False}, 'hwi': {'hw': 'dog-ear', 'prs': [{'mw': 'ˈdȯg-ˌir', 'sound': {'audio': 'dog_ea01', 'ref': 'c', 'stat': '1'}}]}, 'fl': 'noun', 'def': [{'sseq': [[['sense', {'dt': [['text', '{bc}the turned-down corner of a page especially of a book']]}]]]}], 'uros': [{'ure': 'dog-ear', 'fl': 'transitive verb'}], 'date': '1856', 'shortdef': ['the turned-down corner of a page especially of a book']}]\n"
          ]
        }
      ]
    },
    {
      "cell_type": "code",
      "source": [
        "# From API response , pring the definition\n",
        "\n",
        "dictionary_response[0][\"shortdef\"][0]"
      ],
      "metadata": {
        "colab": {
          "base_uri": "https://localhost:8080/",
          "height": 36
        },
        "id": "Crxex0EiieId",
        "outputId": "83730941-1120-4978-c9be-22d5dc0ca96b"
      },
      "execution_count": 16,
      "outputs": [
        {
          "output_type": "execute_result",
          "data": {
            "text/plain": [
              "'canid; especially : a highly variable domestic mammal (Canis familiaris) closely related to the gray wolf'"
            ],
            "application/vnd.google.colaboratory.intrinsic+json": {
              "type": "string"
            }
          },
          "metadata": {},
          "execution_count": 16
        }
      ]
    }
  ],
  "metadata": {
    "accelerator": "TPU",
    "colab": {
      "collapsed_sections": [],
      "name": "PROTOTYPE_WORD_PREDICTION_VALIDATOR.ipynb",
      "provenance": []
    },
    "gpuClass": "standard",
    "kernelspec": {
      "display_name": "Python 3",
      "name": "python3"
    },
    "language_info": {
      "name": "python"
    }
  },
  "nbformat": 4,
  "nbformat_minor": 0
}